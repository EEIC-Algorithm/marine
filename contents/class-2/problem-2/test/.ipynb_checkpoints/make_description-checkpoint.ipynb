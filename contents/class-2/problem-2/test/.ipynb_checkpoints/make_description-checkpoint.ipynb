{
 "cells": [
  {
   "cell_type": "code",
   "execution_count": 2,
   "metadata": {},
   "outputs": [
    {
     "name": "stdout",
     "output_type": "stream",
     "text": [
      "['./in/basic/max_1', './in/basic/sample_2', './in/basic/sample_1.in', './in/basic/small_1', './in/basic/sample_3', './in/basic/random_1']\n",
      "['./in/basic/sample_3.in', './in/basic/sample_1.in', './in/basic/sample_2.in', './in/basic/random_1.in', './in/basic/max_1.in', './in/basic/small_1.in']\n"
     ]
    }
   ],
   "source": [
    "import glob\n",
    "import os\n",
    "path = './in/basic/*'\n",
    "file_list=glob.glob(path)\n",
    "print(file_list)\n",
    "for file in file_list:\n",
    "    if \".in\" not in file:\n",
    "        os.rename(file,file+'.in')\n",
    "new_list=glob.glob(path)\n",
    "print(new_list)"
   ]
  },
  {
   "cell_type": "code",
   "execution_count": 3,
   "metadata": {},
   "outputs": [
    {
     "name": "stdout",
     "output_type": "stream",
     "text": [
      "['./in/secret/random_6', './in/secret/random_4', './in/secret/max_6', './in/secret/max_3', './in/secret/small_2', './in/secret/max_2', './in/secret/random_10', './in/secret/random_9', './in/secret/max_5', './in/secret/small_4', './in/secret/random_7', './in/secret/random_8', './in/secret/random_3', './in/secret/max_4', './in/secret/small_3', './in/secret/random_5', './in/secret/random_2', './in/secret/small_5']\n",
      "['./in/secret/max_6.in', './in/secret/max_4.in', './in/secret/small_4.in', './in/secret/random_9.in', './in/secret/max_5.in', './in/secret/random_6.in', './in/secret/random_2.in', './in/secret/max_3.in', './in/secret/small_3.in', './in/secret/small_5.in', './in/secret/random_5.in', './in/secret/random_10.in', './in/secret/random_3.in', './in/secret/small_2.in', './in/secret/max_2.in', './in/secret/random_8.in', './in/secret/random_7.in', './in/secret/random_4.in']\n"
     ]
    }
   ],
   "source": [
    "import glob\n",
    "import os\n",
    "path = './in/secret/*'\n",
    "file_list=glob.glob(path)\n",
    "print(file_list)\n",
    "for file in file_list:\n",
    "    if \".in\" not in file:\n",
    "        os.rename(file,file+'.in')\n",
    "new_list=glob.glob(path)\n",
    "print(new_list)"
   ]
  },
  {
   "cell_type": "code",
   "execution_count": 5,
   "metadata": {},
   "outputs": [
    {
     "name": "stdout",
     "output_type": "stream",
     "text": [
      "['./out/basic/max_1', './out/basic/sample_2', './out/basic/small_1', './out/basic/sample_1.out', './out/basic/sample_3', './out/basic/random_1']\n",
      "['./out/basic/small_1.out', './out/basic/max_1.out', './out/basic/sample_1.out', './out/basic/random_1.out', './out/basic/sample_3.out', './out/basic/sample_2.out']\n"
     ]
    }
   ],
   "source": [
    "import glob\n",
    "import os\n",
    "path = './out/basic/*'\n",
    "file_list=glob.glob(path)\n",
    "print(file_list)\n",
    "for file in file_list:\n",
    "    if \".out\" not in file:\n",
    "        os.rename(file,file+'.out')\n",
    "new_list=glob.glob(path)\n",
    "print(new_list)"
   ]
  },
  {
   "cell_type": "code",
   "execution_count": 6,
   "metadata": {},
   "outputs": [
    {
     "name": "stdout",
     "output_type": "stream",
     "text": [
      "['./out/secret/random_6', './out/secret/random_4', './out/secret/max_6', './out/secret/max_3', './out/secret/small_2', './out/secret/max_2', './out/secret/random_10', './out/secret/random_9', './out/secret/max_5', './out/secret/small_4', './out/secret/random_7', './out/secret/random_8', './out/secret/random_3', './out/secret/max_4', './out/secret/small_3', './out/secret/random_5', './out/secret/random_2', './out/secret/small_5']\n",
      "['./out/secret/small_5.out', './out/secret/max_2.out', './out/secret/max_5.out', './out/secret/random_8.out', './out/secret/random_5.out', './out/secret/random_2.out', './out/secret/max_4.out', './out/secret/max_6.out', './out/secret/random_4.out', './out/secret/small_2.out', './out/secret/random_10.out', './out/secret/random_7.out', './out/secret/small_4.out', './out/secret/max_3.out', './out/secret/random_3.out', './out/secret/small_3.out', './out/secret/random_6.out', './out/secret/random_9.out']\n"
     ]
    }
   ],
   "source": [
    "import glob\n",
    "import os\n",
    "path = './out/secret/*'\n",
    "file_list=glob.glob(path)\n",
    "print(file_list)\n",
    "for file in file_list:\n",
    "    if \".out\" not in file:\n",
    "        os.rename(file,file+'.out')\n",
    "new_list=glob.glob(path)\n",
    "print(new_list)"
   ]
  },
  {
   "cell_type": "code",
   "execution_count": 71,
   "metadata": {},
   "outputs": [
    {
     "name": "stdout",
     "output_type": "stream",
     "text": [
      "['sample_3', 'sample_1', 'sample_2', 'random_1', 'max_1', 'small_1']\n",
      "[{'input': 'in/basic/sample_3.in', 'output': 'out/basic/sample_3.out', 'description_en': '[Sample Case]', 'description': '[基本実装]'}, {'input': 'in/basic/sample_1.in', 'output': 'out/basic/sample_1.out', 'description_en': '[Sample Case]', 'description': '[基本実装]'}, {'input': 'in/basic/sample_2.in', 'output': 'out/basic/sample_2.out', 'description_en': '[Sample Case]', 'description': '[基本実装]'}, {'input': 'in/basic/random_1.in', 'output': 'out/basic/random_1.out', 'description_en': '[Random Case]', 'description': '[ランダムなデータ]'}, {'input': 'in/basic/max_1.in', 'output': 'out/basic/max_1.out', 'description_en': '[Large Case]', 'description': '[大規模なデータ]'}, {'input': 'in/basic/small_1.in', 'output': 'out/basic/small_1.out', 'description_en': '[Small Case]', 'description': '[小規模なデータ]'}]\n",
      "['max_6', 'max_4', 'small_4', 'random_9', 'max_5', 'random_6', 'random_2', 'max_3', 'small_3', 'small_5', 'random_5', 'random_10', 'random_3', 'small_2', 'max_2', 'random_8', 'random_7', 'random_4']\n",
      "[{'input': 'in/secret/max_6.in', 'output': 'out/secret/max_6.out', 'description_en': '[Large Case]', 'description': '[大規模なデータ]'}, {'input': 'in/secret/max_4.in', 'output': 'out/secret/max_4.out', 'description_en': '[Large Case]', 'description': '[大規模なデータ]'}, {'input': 'in/secret/small_4.in', 'output': 'out/secret/small_4.out', 'description_en': '[Small Case]', 'description': '[小規模なデータ]'}, {'input': 'in/secret/random_9.in', 'output': 'out/secret/random_9.out', 'description_en': '[Random Case]', 'description': '[ランダムなデータ]'}, {'input': 'in/secret/max_5.in', 'output': 'out/secret/max_5.out', 'description_en': '[Large Case]', 'description': '[大規模なデータ]'}, {'input': 'in/secret/random_6.in', 'output': 'out/secret/random_6.out', 'description_en': '[Random Case]', 'description': '[ランダムなデータ]'}, {'input': 'in/secret/random_2.in', 'output': 'out/secret/random_2.out', 'description_en': '[Random Case]', 'description': '[ランダムなデータ]'}, {'input': 'in/secret/max_3.in', 'output': 'out/secret/max_3.out', 'description_en': '[Large Case]', 'description': '[大規模なデータ]'}, {'input': 'in/secret/small_3.in', 'output': 'out/secret/small_3.out', 'description_en': '[Small Case]', 'description': '[小規模なデータ]'}, {'input': 'in/secret/small_5.in', 'output': 'out/secret/small_5.out', 'description_en': '[Small Case]', 'description': '[小規模なデータ]'}, {'input': 'in/secret/random_5.in', 'output': 'out/secret/random_5.out', 'description_en': '[Random Case]', 'description': '[ランダムなデータ]'}, {'input': 'in/secret/random_10.in', 'output': 'out/secret/random_10.out', 'description_en': '[Random Case]', 'description': '[ランダムなデータ]'}, {'input': 'in/secret/random_3.in', 'output': 'out/secret/random_3.out', 'description_en': '[Random Case]', 'description': '[ランダムなデータ]'}, {'input': 'in/secret/small_2.in', 'output': 'out/secret/small_2.out', 'description_en': '[Small Case]', 'description': '[小規模なデータ]'}, {'input': 'in/secret/max_2.in', 'output': 'out/secret/max_2.out', 'description_en': '[Large Case]', 'description': '[大規模なデータ]'}, {'input': 'in/secret/random_8.in', 'output': 'out/secret/random_8.out', 'description_en': '[Random Case]', 'description': '[ランダムなデータ]'}, {'input': 'in/secret/random_7.in', 'output': 'out/secret/random_7.out', 'description_en': '[Random Case]', 'description': '[ランダムなデータ]'}, {'input': 'in/secret/random_4.in', 'output': 'out/secret/random_4.out', 'description_en': '[Random Case]', 'description': '[ランダムなデータ]'}]\n"
     ]
    }
   ],
   "source": [
    "import glob\n",
    "import codecs\n",
    "import json\n",
    "def make_description():\n",
    "    basic_data=[]\n",
    "    basic_list=glob.glob('in/basic/*.in')\n",
    "    basic_list=[x.rstrip(\".in\").strip('in/').strip(\"basic\").strip(\"/\") for x in basic_list]\n",
    "    print(basic_list)\n",
    "    for filename in basic_list:\n",
    "        in_file='in/basic/'+filename+'.in'\n",
    "        out_file='out/basic/'+filename+'.out'\n",
    "        description=\"\"\n",
    "        description_en=\"\"\n",
    "        if \"sample\" in filename:\n",
    "            description=\"[基本実装]\"\n",
    "            description_en=\"[Sample Case]\"\n",
    "        if \"small\" in filename:\n",
    "            description=\"[小規模なデータ]\"\n",
    "            description_en=\"[Small Case]\"\n",
    "        if \"random\" in filename:\n",
    "            description=\"[ランダムなデータ]\"\n",
    "            description_en=\"[Random Case]\"\n",
    "        if \"max\" in filename:\n",
    "            description=\"[大規模なデータ]\"\n",
    "            description_en=\"[Large Case]\"\n",
    "        dic={}\n",
    "        dic[\"input\"]=in_file\n",
    "        dic[\"output\"]=out_file\n",
    "        dic[\"description_en\"]=description_en\n",
    "        dic[\"description\"]=description\n",
    "        basic_data.append(dic)\n",
    "    print(basic_data)\n",
    "    with open('basic_testcases.json','w',encoding='utf-8') as fw:\n",
    "        json.dump(basic_data,fw,indent=4,ensure_ascii=False)\n",
    "    \n",
    "    secret_data=[]\n",
    "    secret_list=glob.glob('in/secret/*.in')\n",
    "    secret_list=[x.rstrip(\".in\").strip('in/').strip(\"secret\").strip(\"/\") for x in secret_list]\n",
    "    print(secret_list)\n",
    "    for filename in secret_list:\n",
    "        in_file='in/secret/'+filename+'.in'\n",
    "        out_file='out/secret/'+filename+'.out'\n",
    "        description=\"\"\n",
    "        description_en=\"\"\n",
    "        if \"sample\" in filename:\n",
    "            description=\"[基本実装]\"\n",
    "            description_en=\"[Sample Case]\"\n",
    "        if \"small\" in filename:\n",
    "            description=\"[小規模なデータ]\"\n",
    "            description_en=\"[Small Case]\"\n",
    "        if \"random\" in filename:\n",
    "            description=\"[ランダムなデータ]\"\n",
    "            description_en=\"[Random Case]\"\n",
    "        if \"max\" in filename:\n",
    "            description=\"[大規模なデータ]\"\n",
    "            description_en=\"[Large Case]\"\n",
    "        dic={}\n",
    "        dic[\"input\"]=in_file\n",
    "        dic[\"output\"]=out_file\n",
    "        dic[\"description_en\"]=description_en\n",
    "        dic[\"description\"]=description\n",
    "        secret_data.append(dic)\n",
    "    print(secret_data)\n",
    "    with open('secret_testcases.json','w',encoding='utf-8') as fw:\n",
    "        json.dump(secret_data,fw,indent=4,ensure_ascii=False)\n",
    "\n",
    "make_description()"
   ]
  },
  {
   "cell_type": "code",
   "execution_count": null,
   "metadata": {},
   "outputs": [],
   "source": []
  }
 ],
 "metadata": {
  "kernelspec": {
   "display_name": "Python 3",
   "language": "python",
   "name": "python3"
  },
  "language_info": {
   "codemirror_mode": {
    "name": "ipython",
    "version": 3
   },
   "file_extension": ".py",
   "mimetype": "text/x-python",
   "name": "python",
   "nbconvert_exporter": "python",
   "pygments_lexer": "ipython3",
   "version": "3.6.9"
  }
 },
 "nbformat": 4,
 "nbformat_minor": 2
}
